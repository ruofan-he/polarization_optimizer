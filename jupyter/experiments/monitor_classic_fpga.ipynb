{
 "cells": [
  {
   "cell_type": "code",
   "execution_count": null,
   "metadata": {
    "collapsed": false,
    "deletable": true,
    "editable": true
   },
   "outputs": [],
   "source": [
    "from periphery import MMIO\n",
    "\n",
    "# Open am335x real-time clock subsystem page\n",
    "regset_gen = MMIO(0x40200000, 0x30000)\n",
    "\n",
    "# read control/status registers\n",
    "for adr in range(0, 0x44, 0x4):\n",
    "    print(\"@{adr:08x} = 0x{dat:08x} = {dat:10d} = {dat:032b}\".format(adr=adr, dat=regset_gen.read32(adr)))\n",
    "# read the buffer\n",
    "for adr in range(0x10000, 0x10040, 0x4):\n",
    "    print(\"@{adr:08x} = 0x{dat:08x} = {dat:10d} = {dat:032b}\".format(adr=adr, dat=regset_gen.read32(adr)))\n",
    "\n",
    "regset_gen.close()"
   ]
  },
  {
   "cell_type": "code",
   "execution_count": null,
   "metadata": {
    "collapsed": true,
    "deletable": true,
    "editable": true
   },
   "outputs": [],
   "source": [
    "# just an example on how to write\n",
    "#regset_gen.write32(0x0, 0x0080)"
   ]
  },
  {
   "cell_type": "code",
   "execution_count": null,
   "metadata": {
    "collapsed": false,
    "deletable": true,
    "editable": true
   },
   "outputs": [],
   "source": [
    "from periphery import MMIO\n",
    "\n",
    "# Open am335x real-time clock subsystem page\n",
    "regset_acq = MMIO(0x40100000, 0x30000)\n",
    "\n",
    "# read control/status registers\n",
    "for adr in range(0, 0x100, 0x4):\n",
    "    print(\"@{adr:08x} = 0x{dat:08x} = {dat:10d} = {dat:032b}\".format(adr=adr, dat=regset_acq.read32(adr)))\n",
    "# read the buffer\n",
    "for adr in range(0x10000, 0x10040, 0x4):\n",
    "    print(\"@{adr:08x} = 0x{dat:08x} = {dat:10d} = {dat:032b}\".format(adr=adr, dat=regset_acq.read32(adr)))\n",
    "\n",
    "regset_acq.close()"
   ]
  }
 ],
 "metadata": {
  "kernelspec": {
   "display_name": "Python 3",
   "language": "python",
   "name": "python3"
  },
  "language_info": {
   "codemirror_mode": {
    "name": "ipython",
    "version": 3
   },
   "file_extension": ".py",
   "mimetype": "text/x-python",
   "name": "python",
   "nbconvert_exporter": "python",
   "pygments_lexer": "ipython3",
   "version": "3.5.2"
  }
 },
 "nbformat": 4,
 "nbformat_minor": 2
}
