{
 "cells": [
  {
   "cell_type": "markdown",
   "metadata": {
    "deletable": true,
    "editable": true
   },
   "source": [
    "# `libiio`: library for interfacing with IIO devices\n",
    "\n",
    "XADC is currently the only IIO device on Red Pitaya.\n",
    "XADC provides measurements of Zynq chip temperature, supply voltages and a set of analog inputs.\n",
    "The set of measured analog inputs is defined by a device tree node.\n",
    "\n",
    "The kernel IIO driver provides a `sysfs` interface for accessing XADC measurements.\n",
    "There are actually two drivers running at the same time.\n",
    "\n",
    "## `compatible = \"xlnx,zynq-xadc-1.00.a\";`\n",
    "\n",
    "This driver is accessing XADC over JTAG, and provides only\n",
    "temperature and supply voltage measurements, at a slow data rate.\n",
    "The advantage is, it does not require FPGA code and is therefore always available.\n",
    "All data is accessed over `sysfs`.\n",
    "\n",
    "## `compatible = \"xlnx,axi-xadc-1.00.a\";`\n",
    "\n",
    "This driver requires FPGA code connecting the XADC to the CPU over the AXI bus.\n",
    "The full feature set is provided.\n",
    "External voltage measurements are available with the full data rate.\n",
    "In addition to the `sysfs` interface a cyclic buffer can be obtained from a device node."
   ]
  },
  {
   "cell_type": "code",
   "execution_count": null,
   "metadata": {
    "collapsed": false,
    "deletable": true,
    "editable": true
   },
   "outputs": [],
   "source": [
    "# load 'classic' FPGA bitstream, it contains an AXI connected XADC and interrupt\n",
    "#import os\n",
    "#os.system('cat /opt/redpitaya/fpga/classic/fpga.bit > /dev/xdevcfg')"
   ]
  },
  {
   "cell_type": "markdown",
   "metadata": {
    "deletable": true,
    "editable": true
   },
   "source": [
    "The next code is using Python bindings to `libiio` list the functionality exposed over `sysfs`."
   ]
  },
  {
   "cell_type": "code",
   "execution_count": null,
   "metadata": {
    "collapsed": false,
    "deletable": true,
    "editable": true,
    "scrolled": true
   },
   "outputs": [],
   "source": [
    "#!/usr/bin/env python\n",
    "#\n",
    "# Copyright (C) 2015 Analog Devices, Inc.\n",
    "# Author: Paul Cercueil <paul.cercueil@analog.com>\n",
    "#\n",
    "# This library is free software; you can redistribute it and/or\n",
    "# modify it under the terms of the GNU Lesser General Public\n",
    "# License as published by the Free Software Foundation; either\n",
    "# version 2.1 of the License, or (at your option) any later version.\n",
    "#\n",
    "# This library is distributed in the hope that it will be useful,\n",
    "# but WITHOUT ANY WARRANTY; without even the implied warranty of\n",
    "# MERCHANTABILITY or FITNESS FOR A PARTICULAR PURPOSE.  See the GNU\n",
    "# Lesser General Public License for more details.\n",
    "\n",
    "import iio\n",
    "from sys import argv\n",
    "\n",
    "def main():\n",
    "\tprint('Library version: %u.%u (git tag: %s)' % iio.version)\n",
    "\n",
    "\tif len(argv) == 3 and argv[1] == '--uri':\n",
    "\t\turi = argv[2]\n",
    "\telse:\n",
    "\t\tcontexts = iio.scan_contexts()\n",
    "\t\tif len(contexts) > 1:\n",
    "\t\t\tprint('Multiple contexts found. Please select one using --uri:')\n",
    "\t\t\tfor index, each in enumerate(contexts):\n",
    "\t\t\t\tprint('\\t%d: %s [%s]' % (index, contexts[each], each))\n",
    "\t\t\treturn\n",
    "\n",
    "\t\turi = next(iter(contexts), None)\n",
    "\n",
    "\tctx = iio.Context(uri)\n",
    "\n",
    "\tif uri is not None:\n",
    "\t\tprint('Using auto-detected IIO context at URI \\\"%s\\\"' % uri)\n",
    "\n",
    "\tprint('IIO context created: ' + ctx.name)\n",
    "\tprint('Backend version: %u.%u (git tag: %s)' % ctx.version)\n",
    "\tprint('Backend description string: ' + ctx.description)\n",
    "\n",
    "\tif len(ctx.attrs) > 0:\n",
    "\t\tprint('IIO context has %u attributes:' % len(ctx.attrs))\n",
    "\tfor attr, value in ctx.attrs.items():\n",
    "\t\tprint('\\t' + attr + ': ' + value)\n",
    "\n",
    "\tprint('IIO context has %u devices:' % len(ctx.devices))\n",
    "\n",
    "\tfor dev in ctx.devices:\n",
    "\t\tprint('\\t' + dev.id + ': ' + dev.name)\n",
    "\n",
    "\t\tif dev is iio.Trigger:\n",
    "\t\t\tprint('Found trigger! Rate: %u Hz' % dev.frequency)\n",
    "\n",
    "\t\tprint('\\t\\t%u channels found:' % len(dev.channels))\n",
    "\n",
    "\t\tfor chn in dev.channels:\n",
    "\t\t\tprint('\\t\\t\\t%s: %s (%s)' % (chn.id, chn.name or \"\", 'output' if chn.output else 'input'))\n",
    "\n",
    "\t\t\tif len(chn.attrs) != 0:\n",
    "\t\t\t\tprint('\\t\\t\\t%u channel-specific attributes found:' % len(chn.attrs))\n",
    "\n",
    "\t\t\tfor attr in chn.attrs:\n",
    "\t\t\t\ttry:\n",
    "\t\t\t\t\tprint('\\t\\t\\t\\t' + attr + ', value: ' + chn.attrs[attr].value)\n",
    "\t\t\t\texcept OSError as e:\n",
    "\t\t\t\t\tprint('Unable to read ' + attr + ': ' + e.strerror)\n",
    "\n",
    "\t\tif len(dev.attrs) != 0:\n",
    "\t\t\tprint('\\t\\t%u device-specific attributes found:' % len(dev.attrs))\n",
    "\n",
    "\t\tfor attr in dev.attrs:\n",
    "\t\t\ttry:\n",
    "\t\t\t\tprint('\\t\\t\\t' + attr + ', value: ' + dev.attrs[attr].value)\n",
    "\t\t\texcept OSError as e:\n",
    "\t\t\t\tprint('Unable to read ' + attr + ': ' + e.strerror)\n",
    "\n",
    "\t\tif len(dev.debug_attrs) != 0:\n",
    "\t\t\tprint('\\t\\t%u debug attributes found:' % len(dev.debug_attrs))\n",
    "\n",
    "\t\tfor attr in dev.debug_attrs:\n",
    "\t\t\ttry:\n",
    "\t\t\t\tprint('\\t\\t\\t' + attr + ', value: ' + dev.debug_attrs[attr].value)\n",
    "\t\t\texcept OSError as e:\n",
    "\t\t\t\tprint('Unable to read ' + attr + ': ' + e.strerror)\n",
    "\n",
    "if __name__ == '__main__':\n",
    "\tmain()"
   ]
  },
  {
   "cell_type": "markdown",
   "metadata": {
    "deletable": true,
    "editable": true
   },
   "source": [
    "The next example is reading measurements provided by the `zynq-xadc` driver as `sysfs` files.\n",
    "Based on my experience an undocumented ratio of 1000 has to be used to achieve correct results.\n",
    "\n",
    "Values `raw`, `offset` and `scale` are used to calculate the temperature.\n",
    "\n",
    "$$ T = (raw + offset) \\cdot scale $$\n",
    "\n",
    "Values `raw` and `scale` are used to calculate supply voltages.\n",
    "\n",
    "$$ U = raw \\cdot scale $$"
   ]
  },
  {
   "cell_type": "code",
   "execution_count": null,
   "metadata": {
    "collapsed": false,
    "deletable": true,
    "editable": true
   },
   "outputs": [],
   "source": [
    "import iio\n",
    "\n",
    "ctx = iio.Context()\n",
    "dev = ctx.devices[2]\n",
    "\n",
    "for chn in dev.channels:\n",
    "    print ('{}: {} ({})'.format(chn.id, chn.name if chn.name else \"\", 'output' if chn.output else 'input'))\n",
    "    raw    = chn.attrs['raw'].value\n",
    "    scale  = chn.attrs['scale'].value\n",
    "    if len(chn.attrs) == 3:\n",
    "        offset = chn.attrs['offset'].value\n",
    "        print ('\\t({}+{})*{}/1000={}'.format(raw, offset, scale, (int(raw)+int(offset))*float(scale)/1000))\n",
    "    else:\n",
    "        print ('\\t{}*{}/1000={}'.format(raw, scale, int(raw)*float(scale)/1000))"
   ]
  },
  {
   "cell_type": "markdown",
   "metadata": {
    "deletable": true,
    "editable": true
   },
   "source": [
    "The next example is reading measurements provided by the `axi-xadc` driver as `sysfs` files.\n",
    "Based on my experience an undocumented ratio of 1000 has to be used to achieve correct results.\n",
    "\n",
    "The equations are the same as in the previous example.\n",
    "This interface also provides slow analog input pin voltages `vaux0`, `vaux1`, `vaux8` and `vaux9`."
   ]
  },
  {
   "cell_type": "code",
   "execution_count": null,
   "metadata": {
    "collapsed": false,
    "deletable": true,
    "editable": true
   },
   "outputs": [],
   "source": [
    "import iio\n",
    "\n",
    "ctx = iio.Context()\n",
    "dev = ctx.devices[3]\n",
    "\n",
    "for chn in dev.channels:\n",
    "    print ('{}: {} ({})'.format(chn.id, chn.name if chn.name else \"\", 'output' if chn.output else 'input'))\n",
    "    raw    = chn.attrs['raw'].value\n",
    "    scale  = chn.attrs['scale'].value\n",
    "    if len(chn.attrs) == 6:\n",
    "        offset = chn.attrs['offset'].value\n",
    "        print ('\\t({}+{})*{}/1000={}'.format(raw, offset, scale, (int(raw)+int(offset))*float(scale)/1000))\n",
    "    else:\n",
    "        print ('\\t{}*{}/1000={}'.format(raw, scale, int(raw)*float(scale)/1000))"
   ]
  },
  {
   "cell_type": "markdown",
   "metadata": {
    "deletable": true,
    "editable": true
   },
   "source": [
    "The following code is an attempt to get a buffer containing XADC samples.\n",
    "For now it crashes the Linux kernel, requiering a reboot.\n",
    "\n",
    "I can get it to work in CLI using C example:\n",
    "```\n",
    "/home/jupyter/libiio/examples/dummy-iiostream -d xadc -t xadc0-samplerate -b 64 -c 2\n",
    "```\n",
    "But I have to comment out `zynq-xadc` in the device tree,\n",
    "since both have the same device name (kernel driver name)."
   ]
  },
  {
   "cell_type": "code",
   "execution_count": null,
   "metadata": {
    "collapsed": false,
    "deletable": true,
    "editable": true
   },
   "outputs": [],
   "source": [
    "import numpy as np\n",
    "\n",
    "data_size = 64\n",
    "\n",
    "import iio\n",
    "ctx = iio.Context()\n",
    "trg = ctx.devices[1]\n",
    "dev = ctx.devices[3]\n",
    "# due to a probable bug in the axi-xadc driver all channels have to be enabled,\n",
    "# otherwise the driver crashes the kernel\n",
    "for chn in dev.channels:\n",
    "    chn.enabled = True\n",
    "dev.trigger = trg\n",
    "buf = iio.Buffer(dev, data_size, cyclic=False)\n",
    "\n",
    "print ([dev.channels[i].id           for i in range(len(dev.channels))])\n",
    "print ([dev.channels[i].scan_element for i in range(len(dev.channels))])\n",
    "print ([dev.channels[i].enabled     for i in range(len(dev.channels))])"
   ]
  },
  {
   "cell_type": "code",
   "execution_count": null,
   "metadata": {
    "collapsed": false,
    "deletable": true,
    "editable": true
   },
   "outputs": [],
   "source": [
    "cnt = buf.refill()"
   ]
  },
  {
   "cell_type": "code",
   "execution_count": null,
   "metadata": {
    "collapsed": false,
    "deletable": true,
    "editable": true
   },
   "outputs": [],
   "source": [
    "data_buf = buf.read()\n",
    "# data = np.recarray(data_size, data_type, buf=data_buf)\n",
    "data = np.frombuffer(data_buf, np.dtype('uint16'))\n",
    "# reshape array and transpose\n",
    "data = data.reshape((data_size, len(dev.channels))).T"
   ]
  },
  {
   "cell_type": "code",
   "execution_count": null,
   "metadata": {
    "collapsed": false,
    "deletable": true,
    "editable": true
   },
   "outputs": [],
   "source": [
    "from plotly.offline import download_plotlyjs, init_notebook_mode, plot, iplot\n",
    "import plotly.plotly as py\n",
    "import plotly.graph_objs as go\n",
    "\n",
    "init_notebook_mode(connected=True)\n",
    "\n",
    "data_x = np.linspace(0, 1, data_size)\n",
    "\n",
    "# temperature trace\n",
    "chn = dev.channels[0]\n",
    "scale  = chn.attrs['scale'].value\n",
    "offset = chn.attrs['offset'].value\n",
    "temp0 = go.Scatter(\n",
    "    x = data_x,\n",
    "    y = ((data[0]>>4) + int(offset)) * float(scale) / 1000,\n",
    "    mode = 'lines',\n",
    "    name = 'temp0'\n",
    ")\n",
    "\n",
    "# voltage traces\n",
    "traces = []\n",
    "for chn in dev.channels:\n",
    "    if len(chn.attrs) == 5:\n",
    "        scale  = chn.attrs['scale'].value\n",
    "        traces.append(go.Scatter(\n",
    "            x = data_x,\n",
    "            y = (data[0]>>4) * float(scale) / 1000,\n",
    "            mode = 'lines',\n",
    "            name = chn.name\n",
    "        ))\n",
    "\n",
    "# Plot and embed in ipython notebook!\n",
    "iplot([temp0], show_link=False)\n",
    "iplot(traces, show_link=False)"
   ]
  }
 ],
 "metadata": {
  "kernelspec": {
   "display_name": "Python 3",
   "language": "python",
   "name": "python3"
  },
  "language_info": {
   "codemirror_mode": {
    "name": "ipython",
    "version": 3
   },
   "file_extension": ".py",
   "mimetype": "text/x-python",
   "name": "python",
   "nbconvert_exporter": "python",
   "pygments_lexer": "ipython3",
   "version": "3.5.2"
  }
 },
 "nbformat": 4,
 "nbformat_minor": 2
}
