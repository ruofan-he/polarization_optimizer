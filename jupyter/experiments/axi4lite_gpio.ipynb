{
 "cells": [
  {
   "cell_type": "markdown",
   "metadata": {},
   "source": [
    "**NOTE: This is experimental code, not intended as an example.**\n",
    "\n",
    "Verilog RTL code and some block diagram code (AXI3 to AXI4-lite conversion) are in the `fpga/prj/axi4lite` directory.\n",
    "\n",
    "The FPGA image contains a single slave device connected to GPIO and LED pins.\n",
    "The slave system bus was recoded from the previous undocumented bus to a standard *AXI4-Lite* interface.\n",
    "The clock for the system bus is derived from the ADC reference oscilator,\n",
    "as it should be with hardware synchronous to 125 MHz ADC/DAC.\n",
    "\n",
    "The Example provides raw Python code for mapping registers, without and C code.\n",
    "And would allow developers to write drivers for FPGA HW entirely in Python."
   ]
  },
  {
   "cell_type": "markdown",
   "metadata": {},
   "source": [
    "The first code segment provides register set definition and memory mapping.\n",
    "Output, output enable and input registers are all 32bit.\n",
    "GPIOs are mapped to bits `[15:0]`and LEDs are mapped to bits `[23:16]`."
   ]
  },
  {
   "cell_type": "code",
   "execution_count": null,
   "metadata": {
    "collapsed": false
   },
   "outputs": [],
   "source": [
    "import os\n",
    "import mmap\n",
    "import numpy as np\n",
    "\n",
    "regset_gpio = np.dtype([\n",
    "    ('o', 'uint32'),\n",
    "    ('t', 'uint32'),\n",
    "    ('i', 'uint32')\n",
    "])\n",
    "\n",
    "os.system('cat /opt/redpitaya/fpga/axi4lite/fpga.bit > /dev/xdevcfg')\n",
    "\n",
    "fd = os.open('/dev/uio/api', os.O_RDWR)\n",
    "m = mmap.mmap(fileno=fd, length=mmap.PAGESIZE, offset=0x0)\n",
    "gpio_array = np.recarray(1, regset_gpio, buf=m)\n",
    "gpio = gpio_array[0]"
   ]
  },
  {
   "cell_type": "markdown",
   "metadata": {},
   "source": [
    "GPIO T signal is inverted output enable, a native notation for Xilinx IOBUF Verilog primitives.\n",
    "So to enable an output, the relevant bit in this register should be set to `0`.\n",
    "\n",
    "The example then alternatively lights up `LED[3:0]` and `LED[7:4]` with a 0.2s delay between them."
   ]
  },
  {
   "cell_type": "code",
   "execution_count": null,
   "metadata": {
    "collapsed": true
   },
   "outputs": [],
   "source": [
    "import time\n",
    "\n",
    "# enable output\n",
    "gpio.t = 0xffff00\n",
    "\n",
    "# blink\n",
    "for i in range(10):\n",
    "    gpio.o = 0x0000f0\n",
    "    time.sleep(0.2)\n",
    "    gpio.o = 0x00000f\n",
    "    time.sleep(0.2)"
   ]
  },
  {
   "cell_type": "markdown",
   "metadata": {},
   "source": [
    "Reading from the input register should return the value on the pins."
   ]
  },
  {
   "cell_type": "code",
   "execution_count": null,
   "metadata": {
    "collapsed": false
   },
   "outputs": [],
   "source": [
    "hex(gpio.i)"
   ]
  },
  {
   "cell_type": "markdown",
   "metadata": {},
   "source": [
    "The next example provides an alternative mapping of the registers.\n",
    "It is intended for testing 64 bit read access to registers.\n",
    "Although the actual register is 32 bit the AXI interconnect\n",
    "should split 64 bit transfers into two 32bit transfers.\n",
    "This is usefull for example for 64 bit values like the Zynq DNA code.\n",
    "Since the bus is little endian the high part of 64 bit data\n",
    "is stored at address `0x0`, while the low part at address `0x4`."
   ]
  },
  {
   "cell_type": "code",
   "execution_count": null,
   "metadata": {
    "collapsed": false
   },
   "outputs": [],
   "source": [
    "regset_test64 = np.dtype([\n",
    "    ('ot', 'uint64'),\n",
    "    ('i', 'uint32')\n",
    "])\n",
    "\n",
    "test64_array = np.recarray(1, regset_test64, buf=m)\n",
    "test64 = test64_array[0]\n",
    "gpio.t = 0x01234567\n",
    "gpio.o = 0x89abcdef\n",
    "hex(test64.ot)"
   ]
  },
  {
   "cell_type": "markdown",
   "metadata": {},
   "source": [
    "Writing 64 bit data and reading it as two 32 bit registers should also work."
   ]
  },
  {
   "cell_type": "code",
   "execution_count": null,
   "metadata": {
    "collapsed": false
   },
   "outputs": [],
   "source": [
    "test64.ot = 0xfedcba9876543210\n",
    "hex(gpio.t), hex(gpio.o)"
   ]
  }
 ],
 "metadata": {
  "kernelspec": {
   "display_name": "Python 3",
   "language": "python",
   "name": "python3"
  },
  "language_info": {
   "codemirror_mode": {
    "name": "ipython",
    "version": 3
   },
   "file_extension": ".py",
   "mimetype": "text/x-python",
   "name": "python",
   "nbconvert_exporter": "python",
   "pygments_lexer": "ipython3",
   "version": "3.5.2"
  }
 },
 "nbformat": 4,
 "nbformat_minor": 2
}
