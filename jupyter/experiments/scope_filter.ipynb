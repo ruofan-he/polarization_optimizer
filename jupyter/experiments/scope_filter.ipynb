{
 "cells": [
  {
   "cell_type": "markdown",
   "metadata": {},
   "source": [
    "# Scope filter\n",
    "\n",
    "```\n",
    "Legend:\n",
    "R01, R02, R1, R2, R3, R4, R5 registers\n",
    "SHR n - right shift for n bits\n",
    "SHL n - left shift for n bits\n",
    "BB - zero for FIR part of equalization filter\n",
    "AA - pole for IIR part of equalization filter\n",
    "PP - pole for IIR part of shaping filter\n",
    "KK - gain\n",
    "Transfer function:\n",
    "H[z]=K*(z-B) / (z^4*(z-P) * (z-A))\n",
    "where:\n",
    "K=KK/2^24\n",
    "B=1-(BB/2^28)\n",
    "P=PP/2^16\n",
    "A=1-(AA/2^25)\n",
    "```\n",
    "\n",
    "$$ H[z] = \\frac {z K - B K} {z^4*(z^2 - z (P+A) + P A)} $$\n",
    "\n",
    "$$ H[z] = \\frac {z K - B K} {z^6 - z^5 (P+A) + z^4 P A} $$"
   ]
  },
  {
   "cell_type": "code",
   "execution_count": null,
   "metadata": {
    "collapsed": false
   },
   "outputs": [],
   "source": [
    "from scipy import signal\n",
    "import matplotlib.pyplot as plt\n",
    "\n",
    "AA = 0x7D93\n",
    "BB = 0x437C7\n",
    "PP = 0x2666\n",
    "KK = 0xd9999a\n",
    "\n",
    "K=KK/2**24\n",
    "B=1-(BB/2**28)\n",
    "P=PP/2**16\n",
    "A=1-(AA/2**25)\n",
    "\n",
    "num = [K, -K*B]\n",
    "den = [1, -(P+A), P*A, 0, 0, 0, 0]\n",
    "\n",
    "scope_filter = signal.TransferFunction(num, den, dt=0.000000008)"
   ]
  },
  {
   "cell_type": "code",
   "execution_count": null,
   "metadata": {
    "collapsed": false
   },
   "outputs": [],
   "source": [
    "w, mag, phase = signal.dbode(scope_filter)\n",
    "\n",
    "plt.figure()\n",
    "plt.semilogx(w, mag)    # Bode magnitude plot\n",
    "plt.figure()\n",
    "plt.semilogx(w, phase)  # Bode phase plot\n",
    "plt.show()"
   ]
  },
  {
   "cell_type": "code",
   "execution_count": null,
   "metadata": {
    "collapsed": false
   },
   "outputs": [],
   "source": [
    "from scipy import __version__\n",
    "__version__"
   ]
  }
 ],
 "metadata": {
  "kernelspec": {
   "display_name": "Python 3",
   "language": "python",
   "name": "python3"
  },
  "language_info": {
   "codemirror_mode": {
    "name": "ipython",
    "version": 3
   },
   "file_extension": ".py",
   "mimetype": "text/x-python",
   "name": "python",
   "nbconvert_exporter": "python",
   "pygments_lexer": "ipython3",
   "version": "3.5.2"
  }
 },
 "nbformat": 4,
 "nbformat_minor": 2
}
