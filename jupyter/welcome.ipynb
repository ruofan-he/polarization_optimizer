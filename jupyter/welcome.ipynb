{
 "cells": [
  {
   "cell_type": "markdown",
   "metadata": {
    "collapsed": true
   },
   "source": [
    "## Welcome to Jupyter notebook on STEMlab\n",
    "\n",
    "Jupyter notebooks contain Python code which provides access to STEMlab hardware.\n",
    "\n",
    "A basic Python tutorial [A Whirlwind Tour of Python](../WhirlwindTourOfPython/Index.ipynb) is provided (copied [from Jake Vanderplas on GitHub](https://github.com/jakevdp/WhirlwindTourOfPython)).\n",
    "\n",
    "To execute a cell click on it to change focus, and press the run button (⏵) above or press the key combination `Shift+Enter`."
   ]
  },
  {
   "cell_type": "markdown",
   "metadata": {},
   "source": [
    "0. Features\n",
    "    0. [Read hardware identification](examples/hwid.ipynb)\n",
    "    0. [Drive LEDs](examples/led.ipynb)\n",
    "    0. [Control GPIOs](examples/gpio.ipynb)\n",
    "    0. [Write slow analog I/Os](examples/analog_output.ipynb)\n",
    "    0. [Read slow analog I/Os](examples/analog_input.ipynb)\n",
    "    0. Generator:\n",
    "        0. [Generate periodic sine wave](examples/gen_sine_signal.ipynb)\n",
    "        0. [Generate periodic arbitrary signal](examples/gen_arbitrary_signal.ipynb)\n",
    "        0. [Two synchronized generators](examples/gen_sync_two_channel.ipynb)\n",
    "        0. [Burst mode](examples/gen_bursts.ipynb)\n",
    "    0. Oscilloscope:\n",
    "        0. [Forced trigger](examples/osc_trigger_forced.ipynb)\n",
    "        0. [Level trigger](examples/osc_trigger_level.ipynb)\n",
    "        0. [Two synchronized channels](examples/osc_sync_two_channel.ipynb)\n",
    "        0. [Synchronized with generator](examples/osc_sync_with_gen.ipynb)\n",
    "    0. Logic generator/analyzer:\n",
    "        0. [Logic generator](examples/lg_counter.ipynb)\n",
    "        0. [Logic analyzer](examples/la_trigger.ipynb)\n",
    "    0. Demo applications using widgets:\n",
    "        0. [Generator](examples/generator_widget.ipynb)\n",
    "        0. [Oscilloscope](examples/oscilloscope_widget.ipynb)    \n",
    "0. Examples\n",
    "    0. [Home heating automation](examples/home_automation.ipynb)\n",
    "    0. [Temperature sensor (GROVE sensors)](examples/exam_temp.ipynb)"
   ]
  }
 ],
 "metadata": {
  "kernelspec": {
   "display_name": "Python 3",
   "language": "python",
   "name": "python3"
  },
  "language_info": {
   "codemirror_mode": {
    "name": "ipython",
    "version": 3
   },
   "file_extension": ".py",
   "mimetype": "text/x-python",
   "name": "python",
   "nbconvert_exporter": "python",
   "pygments_lexer": "ipython3",
   "version": "3.5.2"
  }
 },
 "nbformat": 4,
 "nbformat_minor": 2
}
