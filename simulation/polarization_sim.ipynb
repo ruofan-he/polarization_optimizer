{
 "cells": [
  {
   "cell_type": "markdown",
   "metadata": {},
   "source": [
    "## 偏光状態のシミュレーション"
   ]
  },
  {
   "cell_type": "code",
   "execution_count": null,
   "metadata": {},
   "outputs": [],
   "source": [
    "import matplotlib.pyplot as plt\n",
    "import numpy as np"
   ]
  },
  {
   "cell_type": "code",
   "execution_count": null,
   "metadata": {},
   "outputs": [],
   "source": [
    "def stokes_vector(j):\n",
    "    norm = lambda e: e/np.linalg.norm(e)\n",
    "    norm_j = norm(j)\n",
    "    density_matrix = norm_j.dot(norm_j.conj().T)\n",
    "    s3 = density_matrix[0,0] - density_matrix[1,1]\n",
    "    s1 = density_matrix[0,1] + density_matrix[1,0]\n",
    "    s2 = (density_matrix[1,0] - density_matrix[0,1])/1j\n",
    "    return np.array([s1,s2,s3]).T.real\n",
    "\n",
    "def jones_vector(theta, phi):\n",
    "    return np.array([[np.cos(theta), np.sin(theta)*np.exp(phi*1j)]]).T"
   ]
  }
 ],
 "metadata": {
  "kernelspec": {
   "display_name": "Python 3",
   "language": "python",
   "name": "python3"
  },
  "language_info": {
   "codemirror_mode": {
    "name": "ipython",
    "version": 3
   },
   "file_extension": ".py",
   "mimetype": "text/x-python",
   "name": "python",
   "nbconvert_exporter": "python",
   "pygments_lexer": "ipython3",
   "version": "3.8.5"
  }
 },
 "nbformat": 4,
 "nbformat_minor": 4
}
